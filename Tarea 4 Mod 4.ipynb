{
 "cells": [
  {
   "cell_type": "code",
   "execution_count": 1,
   "metadata": {},
   "outputs": [],
   "source": [
    "from sklearn.decomposition import PCA\n",
    "from numpy.linalg import svd\n",
    "from tensorflow.keras import datasets\n",
    "from sklearn.pipeline import Pipeline\n",
    "import matplotlib.pyplot as plt\n",
    "import numpy as np"
   ]
  },
  {
   "cell_type": "markdown",
   "metadata": {},
   "source": [
    "# Ejercicio\n",
    "Entrenando un modelo con PCA\n",
    "\n",
    "Considerando  xtrain, ytrain definido en las céldas de arriba, crea dos modelos:  \n",
    "\n",
    "1.Un pipeline considerando PCA con n_components=0.7 seguido de un modelo KNeighborsClassifier con n_neighbors=5  \n",
    "2.KNeighborsClassifier con n_neighbors=5  \n",
    "\n",
    "Realiza un cross validation con n_components=3.  \n",
    "\n",
    "1.¿Qué resultados arroja cada modelo?  \n",
    "2.¿que ventajas tiene cada modelo?  \n",
    "3.¿Cuánto tarda en correr cada cross-validation?"
   ]
  },
  {
   "cell_type": "code",
   "execution_count": 2,
   "metadata": {},
   "outputs": [],
   "source": [
    "train, test = datasets.mnist.load_data()\n",
    "xtrain, ytrain = train\n",
    "xtest, ytest = test\n"
   ]
  },
  {
   "cell_type": "code",
   "execution_count": 3,
   "metadata": {},
   "outputs": [],
   "source": [
    "from sklearn.neighbors import KNeighborsClassifier\n",
    "from sklearn.metrics import accuracy_score"
   ]
  },
  {
   "cell_type": "code",
   "execution_count": 4,
   "metadata": {
    "scrolled": true
   },
   "outputs": [
    {
     "name": "stderr",
     "output_type": "stream",
     "text": [
      "/Users/danielpoblano/opt/anaconda3/lib/python3.7/site-packages/ipykernel_launcher.py:6: DataConversionWarning: A column-vector y was passed when a 1d array was expected. Please change the shape of y to (n_samples, ), for example using ravel().\n",
      "  \n"
     ]
    },
    {
     "name": "stdout",
     "output_type": "stream",
     "text": [
      "accuracy: 0.9688\n",
      "CPU times: user 10min 10s, sys: 1.32 s, total: 10min 11s\n",
      "Wall time: 10min 13s\n"
     ]
    }
   ],
   "source": [
    "%%time\n",
    "N, M1, M2 = xtrain.shape\n",
    "n, m1, m2 = xtest.shape\n",
    "\n",
    "\n",
    "knn = KNeighborsClassifier(n_neighbors=5)\n",
    "knn.fit(xtrain.reshape(N, -1), ytrain.reshape(N, -1))\n",
    "\n",
    "pred = knn.predict(xtest.reshape(n, -1))\n",
    "\n",
    "print(\"accuracy: {}\".format(accuracy_score(ytest, pred)))"
   ]
  },
  {
   "cell_type": "code",
   "execution_count": 5,
   "metadata": {},
   "outputs": [
    {
     "name": "stderr",
     "output_type": "stream",
     "text": [
      "/Users/danielpoblano/opt/anaconda3/lib/python3.7/site-packages/sklearn/pipeline.py:354: DataConversionWarning: A column-vector y was passed when a 1d array was expected. Please change the shape of y to (n_samples, ), for example using ravel().\n",
      "  self._final_estimator.fit(Xt, y, **fit_params)\n"
     ]
    },
    {
     "name": "stdout",
     "output_type": "stream",
     "text": [
      "accuracy: 0.9738\n",
      "CPU times: user 27.2 s, sys: 724 ms, total: 27.9 s\n",
      "Wall time: 18.1 s\n"
     ]
    }
   ],
   "source": [
    "%%time\n",
    "pipe = Pipeline([(\"pca\", PCA(n_components=.7)),\n",
    "                 (\"KNeighbors\", KNeighborsClassifier(n_neighbors=5))\n",
    "                 ])\n",
    "\n",
    "pipe.fit(xtrain.reshape(N, -1), ytrain.reshape(N, -1))\n",
    "pred = pipe.predict(xtest.reshape(n, -1))\n",
    "\n",
    "print(\"accuracy: {}\".format(accuracy_score(ytest, pred)))"
   ]
  },
  {
   "cell_type": "code",
   "execution_count": 6,
   "metadata": {
    "scrolled": true
   },
   "outputs": [],
   "source": [
    "from sklearn.model_selection import cross_validate"
   ]
  },
  {
   "cell_type": "code",
   "execution_count": 7,
   "metadata": {
    "scrolled": true
   },
   "outputs": [
    {
     "name": "stderr",
     "output_type": "stream",
     "text": [
      "/Users/danielpoblano/opt/anaconda3/lib/python3.7/site-packages/sklearn/pipeline.py:354: DataConversionWarning: A column-vector y was passed when a 1d array was expected. Please change the shape of y to (n_samples, ), for example using ravel().\n",
      "  self._final_estimator.fit(Xt, y, **fit_params)\n",
      "/Users/danielpoblano/opt/anaconda3/lib/python3.7/site-packages/sklearn/pipeline.py:354: DataConversionWarning: A column-vector y was passed when a 1d array was expected. Please change the shape of y to (n_samples, ), for example using ravel().\n",
      "  self._final_estimator.fit(Xt, y, **fit_params)\n",
      "/Users/danielpoblano/opt/anaconda3/lib/python3.7/site-packages/sklearn/pipeline.py:354: DataConversionWarning: A column-vector y was passed when a 1d array was expected. Please change the shape of y to (n_samples, ), for example using ravel().\n",
      "  self._final_estimator.fit(Xt, y, **fit_params)\n"
     ]
    },
    {
     "name": "stdout",
     "output_type": "stream",
     "text": [
      "CPU times: user 1min 22s, sys: 1.78 s, total: 1min 24s\n",
      "Wall time: 1min 3s\n"
     ]
    }
   ],
   "source": [
    "%%time\n",
    "cv=cross_validate(pipe, xtrain.reshape(N, -1), ytrain.reshape(N, -1), cv=3)"
   ]
  },
  {
   "cell_type": "code",
   "execution_count": 8,
   "metadata": {},
   "outputs": [
    {
     "data": {
      "text/plain": [
       "dict_values([array([2.86404705, 2.91757703, 2.87707114]), array([19.24252105, 18.4274087 , 16.73021793]), array([0.9727, 0.9707, 0.9701])])"
      ]
     },
     "execution_count": 8,
     "metadata": {},
     "output_type": "execute_result"
    }
   ],
   "source": [
    "cv.values()"
   ]
  },
  {
   "cell_type": "code",
   "execution_count": 9,
   "metadata": {},
   "outputs": [
    {
     "name": "stderr",
     "output_type": "stream",
     "text": [
      "/Users/danielpoblano/opt/anaconda3/lib/python3.7/site-packages/sklearn/model_selection/_validation.py:515: DataConversionWarning: A column-vector y was passed when a 1d array was expected. Please change the shape of y to (n_samples, ), for example using ravel().\n",
      "  estimator.fit(X_train, y_train, **fit_params)\n",
      "/Users/danielpoblano/opt/anaconda3/lib/python3.7/site-packages/sklearn/model_selection/_validation.py:515: DataConversionWarning: A column-vector y was passed when a 1d array was expected. Please change the shape of y to (n_samples, ), for example using ravel().\n",
      "  estimator.fit(X_train, y_train, **fit_params)\n",
      "/Users/danielpoblano/opt/anaconda3/lib/python3.7/site-packages/sklearn/model_selection/_validation.py:515: DataConversionWarning: A column-vector y was passed when a 1d array was expected. Please change the shape of y to (n_samples, ), for example using ravel().\n",
      "  estimator.fit(X_train, y_train, **fit_params)\n"
     ]
    },
    {
     "name": "stdout",
     "output_type": "stream",
     "text": [
      "CPU times: user 42min 15s, sys: 3.52 s, total: 42min 18s\n",
      "Wall time: 42min 22s\n"
     ]
    }
   ],
   "source": [
    "%%time\n",
    "cv=cross_validate(knn, xtrain.reshape(N, -1), ytrain.reshape(N, -1), cv=3)"
   ]
  },
  {
   "cell_type": "code",
   "execution_count": 10,
   "metadata": {
    "scrolled": true
   },
   "outputs": [
    {
     "data": {
      "text/plain": [
       "dict_values([array([7.69621706, 7.764709  , 7.48591781]), array([866.97983789, 836.1976819 , 816.08444738]), array([0.9676 , 0.9671 , 0.96755])])"
      ]
     },
     "execution_count": 10,
     "metadata": {},
     "output_type": "execute_result"
    }
   ],
   "source": [
    "cv.values()"
   ]
  },
  {
   "cell_type": "markdown",
   "metadata": {},
   "source": [
    "1.¿Qué resultados arroja cada modelo?  \n",
    "R. El modelo con PCA me da un mejor accuracy que el que sólo tiene KNeighbors, \n",
    "esto por la reducción de dimensionalidad, y al mismo tiempo reduce la variabilidad.  \n",
    "2.¿que ventajas tiene cada modelo?    \n",
    "R. PCA asume que los componentes principales son combinaciones lineales, reduce calculos computacionales.   \n",
    "3.¿Cuánto tarda en correr cada cross-validation?  \n",
    "R. 40min para KNeighbors y 1min para PCA con KNeighbors"
   ]
  }
 ],
 "metadata": {
  "kernelspec": {
   "display_name": "Python 3",
   "language": "python",
   "name": "python3"
  },
  "language_info": {
   "codemirror_mode": {
    "name": "ipython",
    "version": 3
   },
   "file_extension": ".py",
   "mimetype": "text/x-python",
   "name": "python",
   "nbconvert_exporter": "python",
   "pygments_lexer": "ipython3",
   "version": "3.7.4"
  }
 },
 "nbformat": 4,
 "nbformat_minor": 2
}
